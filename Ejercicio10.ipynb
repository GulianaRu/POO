{
 "cells": [
  {
   "cell_type": "code",
   "execution_count": 2,
   "id": "af9c85cf",
   "metadata": {},
   "outputs": [
    {
     "name": "stdout",
     "output_type": "stream",
     "text": [
      "Total a pagar: 2450000\n"
     ]
    }
   ],
   "source": [
    "class Empleado:\n",
    "    def __init__(self, nombre, salario):\n",
    "        self.nombre = nombre\n",
    "        self.salario = salario\n",
    "\n",
    "    def calcular_pago(self):\n",
    "        return self.salario\n",
    "\n",
    "\n",
    "class EmpleadoConBono(Empleado):\n",
    "    def __init__(self, nombre, salario, bono):\n",
    "        super().__init__(nombre, salario)\n",
    "        self.bono = bono\n",
    "\n",
    "    def calcular_pago(self):\n",
    "        return self.salario + self.bono\n",
    "\n",
    "\n",
    "class Nomina:\n",
    "    def __init__(self):\n",
    "        self.empleados = []\n",
    "\n",
    "    def agregar_empleado(self, empleado):\n",
    "        self.empleados.append(empleado)\n",
    "\n",
    "    def calcular_total(self):\n",
    "        return sum(e.calcular_pago() for e in self.empleados)\n",
    "\n",
    "\n",
    "# Ejemplo\n",
    "nomina = Nomina()\n",
    "nomina.agregar_empleado(Empleado(\"Ana\", 800000))\n",
    "nomina.agregar_empleado(EmpleadoConBono(\"Luis\", 700000, 50000))\n",
    "nomina.agregar_empleado(Empleado(\"Clara\", 900000))\n",
    "\n",
    "print(\"Total a pagar:\", nomina.calcular_total())\n"
   ]
  }
 ],
 "metadata": {
  "kernelspec": {
   "display_name": "Python 3",
   "language": "python",
   "name": "python3"
  },
  "language_info": {
   "codemirror_mode": {
    "name": "ipython",
    "version": 3
   },
   "file_extension": ".py",
   "mimetype": "text/x-python",
   "name": "python",
   "nbconvert_exporter": "python",
   "pygments_lexer": "ipython3",
   "version": "3.13.5"
  }
 },
 "nbformat": 4,
 "nbformat_minor": 5
}
