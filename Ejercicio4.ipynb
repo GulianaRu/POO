{
 "cells": [
  {
   "cell_type": "code",
   "execution_count": null,
   "id": "10bab16a",
   "metadata": {},
   "outputs": [
    {
     "name": "stdout",
     "output_type": "stream",
     "text": [
      "Retiro exitoso. Nuevo saldo: 5000\n",
      "Fondos insuficientes\n",
      "Retiro exitoso. Nuevo saldo: 0\n",
      "Cuenta: 123, Saldo: 5000\n",
      "Cuenta: 456, Saldo: 0\n"
     ]
    }
   ],
   "source": [
    "class CuentaBancaria:\n",
    "    def __init__(self, numero, saldo):\n",
    "        self.numero = numero\n",
    "        self.saldo = saldo\n",
    "\n",
    "    def retirar(self, monto):\n",
    "        if monto <= self.saldo:\n",
    "            self.saldo -= monto\n",
    "            return True\n",
    "        return False\n",
    "\n",
    "\n",
    "class Cajero:\n",
    "    def retirar_dinero(self, cuenta, monto):\n",
    "        if cuenta.retirar(monto):\n",
    "            return f\"Retiro exitoso. Nuevo saldo: {cuenta.saldo}\"\n",
    "        return \"Fondos insuficientes\"\n",
    "\n",
    "    def mostrar_saldo(self, cuenta):\n",
    "        print(f\"Cuenta: {cuenta.numero}, Saldo: {cuenta.saldo}\")\n",
    "\n",
    "\n",
    "# Ejemplo\n",
    "c1 = CuentaBancaria(\"123\", 10000)\n",
    "c2 = CuentaBancaria(\"456\", 3000)\n",
    "cajero = Cajero()\n",
    "\n",
    "print(cajero.retirar_dinero(c1, 5000))    # exitoso\n",
    "print(cajero.retirar_dinero(c2, 4000))    # falla\n",
    "print(cajero.retirar_dinero(c2, 3000))    # saldo a 0\n",
    "\n",
    "cajero.mostrar_saldo(c1)\n",
    "cajero.mostrar_saldo(c2)\n"
   ]
  }
 ],
 "metadata": {
  "kernelspec": {
   "display_name": "Python 3",
   "language": "python",
   "name": "python3"
  },
  "language_info": {
   "codemirror_mode": {
    "name": "ipython",
    "version": 3
   },
   "file_extension": ".py",
   "mimetype": "text/x-python",
   "name": "python",
   "nbconvert_exporter": "python",
   "pygments_lexer": "ipython3",
   "version": "3.13.5"
  }
 },
 "nbformat": 4,
 "nbformat_minor": 5
}
