{
 "cells": [
  {
   "cell_type": "code",
   "execution_count": 5,
   "id": "4eb88a9a",
   "metadata": {},
   "outputs": [
    {
     "name": "stdout",
     "output_type": "stream",
     "text": [
      "Préstamo exitoso\n",
      "Libro no disponible o no encontrado\n",
      "Préstamo exitoso\n"
     ]
    }
   ],
   "source": [
    "\n",
    "class Libro:\n",
    "    def __init__(self, titulo, autor):\n",
    "        self.titulo = titulo\n",
    "        self.autor = autor\n",
    "        self.disponible = True\n",
    "\n",
    "    def prestar(self):\n",
    "        if self.disponible:\n",
    "            self.disponible = False\n",
    "            return True\n",
    "        return False\n",
    "\n",
    "    def devolver(self):\n",
    "        self.disponible = True\n",
    "\n",
    "\n",
    "class Biblioteca:\n",
    "    def __init__(self):\n",
    "        self.libros = []\n",
    "\n",
    "    def agregar_libro(self, libro):\n",
    "        self.libros.append(libro)\n",
    "\n",
    "    def buscar_libro(self, titulo):\n",
    "        for libro in self.libros:\n",
    "            if libro.titulo == titulo:\n",
    "                return libro\n",
    "        return None\n",
    "\n",
    "    def prestar_libro(self, titulo):\n",
    "        libro = self.buscar_libro(titulo)\n",
    "        if libro and libro.prestar():\n",
    "            return \"Préstamo exitoso\"\n",
    "        return \"Libro no disponible o no encontrado\"\n",
    "\n",
    "# Ejemplo para probar\n",
    "# Crear libros\n",
    "libro1 = Libro(\"El cuervo\", \"Edgar Allan Poe\")\n",
    "libro2 = Libro(\"Fahrenheit 451\", \"Ray Bradbury\")\n",
    "\n",
    "# Crear biblioteca y agregar libros\n",
    "biblio = Biblioteca()\n",
    "biblio.agregar_libro(libro1)\n",
    "biblio.agregar_libro(libro2)\n",
    "\n",
    "# Probar préstamo\n",
    "print(biblio.prestar_libro(\"El cuervo\"))    \n",
    "print(biblio.prestar_libro(\"El cuervo\"))     \n",
    "\n",
    "# Devolver libro y volver a prestarlo\n",
    "libro1.devolver()\n",
    "print(biblio.prestar_libro(\"El cuervo\"))      \n"
   ]
  }
 ],
 "metadata": {
  "kernelspec": {
   "display_name": "Python 3",
   "language": "python",
   "name": "python3"
  },
  "language_info": {
   "codemirror_mode": {
    "name": "ipython",
    "version": 3
   },
   "file_extension": ".py",
   "mimetype": "text/x-python",
   "name": "python",
   "nbconvert_exporter": "python",
   "pygments_lexer": "ipython3",
   "version": "3.13.5"
  }
 },
 "nbformat": 4,
 "nbformat_minor": 5
}
