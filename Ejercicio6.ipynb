{
 "cells": [
  {
   "cell_type": "code",
   "execution_count": 3,
   "id": "40a202c1",
   "metadata": {},
   "outputs": [
    {
     "name": "stdout",
     "output_type": "stream",
     "text": [
      "Teléfonos de Ana: ['985552664', '955555887']\n",
      "Teléfonos de Luis: ['987654321']\n",
      "Teléfonos de Pedro: []\n"
     ]
    }
   ],
   "source": [
    "class Contacto:\n",
    "    def __init__(self, nombre, telefono):\n",
    "        self.nombre = nombre\n",
    "        self.telefono = telefono\n",
    "\n",
    "\n",
    "class Agenda:\n",
    "    def __init__(self):\n",
    "        self.contactos = []\n",
    "\n",
    "    def agregar_contacto(self, contacto):\n",
    "        self.contactos.append(contacto)\n",
    "\n",
    "    def buscar_contacto(self, nombre):\n",
    "        return [c.telefono for c in self.contactos if c.nombre == nombre]\n",
    "\n",
    "\n",
    "# Ejemplo\n",
    "agenda = Agenda()\n",
    "agenda.agregar_contacto(Contacto(\"Ana\", \"985552664\"))\n",
    "agenda.agregar_contacto(Contacto(\"Luis\", \"987654321\"))\n",
    "agenda.agregar_contacto(Contacto(\"Ana\", \"955555887\"))\n",
    "\n",
    "print(\"Teléfonos de Ana:\", agenda.buscar_contacto(\"Ana\"))\n",
    "print(\"Teléfonos de Luis:\", agenda.buscar_contacto(\"Luis\"))\n",
    "print(\"Teléfonos de Pedro:\", agenda.buscar_contacto(\"Pedro\"))\n"
   ]
  }
 ],
 "metadata": {
  "kernelspec": {
   "display_name": "Python 3",
   "language": "python",
   "name": "python3"
  },
  "language_info": {
   "codemirror_mode": {
    "name": "ipython",
    "version": 3
   },
   "file_extension": ".py",
   "mimetype": "text/x-python",
   "name": "python",
   "nbconvert_exporter": "python",
   "pygments_lexer": "ipython3",
   "version": "3.13.5"
  }
 },
 "nbformat": 4,
 "nbformat_minor": 5
}
