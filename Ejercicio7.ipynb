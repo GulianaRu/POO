{
 "cells": [
  {
   "cell_type": "code",
   "execution_count": 2,
   "id": "e032b6bc",
   "metadata": {},
   "outputs": [
    {
     "name": "stdout",
     "output_type": "stream",
     "text": [
      "Pan: $1000\n",
      "Leche: $1200\n",
      "2 Huevos: $600\n",
      "Total: $2800\n"
     ]
    }
   ],
   "source": [
    "class Producto:\n",
    "    def __init__(self, nombre, precio):\n",
    "        self.nombre = nombre\n",
    "        self.precio = precio\n",
    "\n",
    "\n",
    "class Pedido:\n",
    "    def __init__(self):\n",
    "        self.productos = []\n",
    "\n",
    "    def agregar_producto(self, producto):\n",
    "        self.productos.append(producto)\n",
    "\n",
    "    def total(self):\n",
    "        return sum(p.precio for p in self.productos)\n",
    "\n",
    "    def resumen(self):\n",
    "        for p in self.productos:\n",
    "            print(f\"{p.nombre}: ${p.precio}\")\n",
    "        print(f\"Total: ${self.total()}\")\n",
    "\n",
    "\n",
    "# Ejemplo\n",
    "pedido = Pedido()\n",
    "pedido.agregar_producto(Producto(\"Pan\", 1000))\n",
    "pedido.agregar_producto(Producto(\"Leche\", 1200))\n",
    "pedido.agregar_producto(Producto(\"2 Huevos\", 600))\n",
    "pedido.resumen()\n"
   ]
  }
 ],
 "metadata": {
  "kernelspec": {
   "display_name": "Python 3",
   "language": "python",
   "name": "python3"
  },
  "language_info": {
   "codemirror_mode": {
    "name": "ipython",
    "version": 3
   },
   "file_extension": ".py",
   "mimetype": "text/x-python",
   "name": "python",
   "nbconvert_exporter": "python",
   "pygments_lexer": "ipython3",
   "version": "3.13.5"
  }
 },
 "nbformat": 4,
 "nbformat_minor": 5
}
