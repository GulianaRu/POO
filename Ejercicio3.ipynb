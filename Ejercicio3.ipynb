{
 "cells": [
  {
   "cell_type": "code",
   "execution_count": 1,
   "id": "bfc07b41",
   "metadata": {},
   "outputs": [
    {
     "name": "stdout",
     "output_type": "stream",
     "text": [
      "Milton está inscrito en: ['POO', 'Matematica']\n",
      "Alan está inscrito en: ['POO']\n",
      "Guliana está inscrito en: ['Estructura de Computadores']\n",
      "Carlos está inscrito en: ['POO']\n",
      "En POO están inscritos: ['Milton', 'Alan', 'Carlos']\n",
      "En Matematica están inscritos: ['Milton']\n",
      "En Estructura de Computadores están inscritos: ['Guliana']\n"
     ]
    }
   ],
   "source": [
    "class Curso:\n",
    "    def __init__(self, nombre):\n",
    "        self.nombre = nombre\n",
    "        self.estudiantes = []\n",
    "\n",
    "    def inscribir(self, estudiante):\n",
    "        if estudiante not in self.estudiantes:\n",
    "            self.estudiantes.append(estudiante)\n",
    "\n",
    "\n",
    "class Estudiante:\n",
    "    def __init__(self, nombre):\n",
    "        self.nombre = nombre\n",
    "        self.cursos = []\n",
    "\n",
    "    def inscribirse(self, curso):\n",
    "        if curso not in self.cursos:\n",
    "            self.cursos.append(curso)\n",
    "            curso.inscribir(self)\n",
    "\n",
    "\n",
    "# Ejemplo\n",
    "c1 = Curso(\"POO\")\n",
    "c2 = Curso(\"Matematica\")\n",
    "c3 = Curso(\"Estructura de Computadores\")\n",
    "\n",
    "e1 = Estudiante(\"Milton\")\n",
    "e2 = Estudiante(\"Alan\")\n",
    "e3 = Estudiante(\"Guliana\")\n",
    "e4 = Estudiante(\"Carlos\")\n",
    "\n",
    "e1.inscribirse(c1)\n",
    "e1.inscribirse(c2)\n",
    "e2.inscribirse(c1)\n",
    "e3.inscribirse(c3)\n",
    "e4.inscribirse(c1)\n",
    "\n",
    "for estudiante in [e1, e2, e3, e4]:\n",
    "    cursos = [curso.nombre for curso in estudiante.cursos]\n",
    "    print(f\"{estudiante.nombre} está inscrito en: {cursos}\")\n",
    "\n",
    "for curso in [c1, c2, c3]:\n",
    "    estudiantes = [e.nombre for e in curso.estudiantes]\n",
    "    print(f\"En {curso.nombre} están inscritos: {estudiantes}\")\n"
   ]
  }
 ],
 "metadata": {
  "kernelspec": {
   "display_name": "Python 3",
   "language": "python",
   "name": "python3"
  },
  "language_info": {
   "codemirror_mode": {
    "name": "ipython",
    "version": 3
   },
   "file_extension": ".py",
   "mimetype": "text/x-python",
   "name": "python",
   "nbconvert_exporter": "python",
   "pygments_lexer": "ipython3",
   "version": "3.13.5"
  }
 },
 "nbformat": 4,
 "nbformat_minor": 5
}
