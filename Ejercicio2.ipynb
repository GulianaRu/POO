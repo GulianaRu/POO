{
 "cells": [
  {
   "cell_type": "code",
   "execution_count": null,
   "id": "9b3ff4b2",
   "metadata": {},
   "outputs": [
    {
     "name": "stdout",
     "output_type": "stream",
     "text": [
      "Habitación 101 reservada para Juan\n"
     ]
    }
   ],
   "source": [
    "class Habitacion:\n",
    "    def __init__(self, numero):\n",
    "        self.numero = numero\n",
    "        self.ocupada = False\n",
    "\n",
    "    def reservar(self):\n",
    "        if not self.ocupada:\n",
    "            self.ocupada = True\n",
    "            return True\n",
    "        return False\n",
    "\n",
    "    def liberar(self):\n",
    "        self.ocupada = False\n",
    "\n",
    "\n",
    "class Cliente:\n",
    "    def __init__(self, nombre):\n",
    "        self.nombre = nombre\n",
    "        self.habitacion = None\n",
    "\n",
    "    def reservar_habitacion(self, habitacion):\n",
    "        if habitacion.reservar():\n",
    "            self.habitacion = habitacion\n",
    "            return f\"Habitación {habitacion.numero} reservada para {self.nombre}\"\n",
    "        return \"No se pudo reservar\"\n",
    "\n",
    "# Ejemplo\n",
    "h1 = Habitacion(101)\n",
    "juan = Cliente(\"Juan\")\n",
    "print(juan.reservar_habitacion(h1))\n"
   ]
  }
 ],
 "metadata": {
  "kernelspec": {
   "display_name": "Python 3",
   "language": "python",
   "name": "python3"
  },
  "language_info": {
   "codemirror_mode": {
    "name": "ipython",
    "version": 3
   },
   "file_extension": ".py",
   "mimetype": "text/x-python",
   "name": "python",
   "nbconvert_exporter": "python",
   "pygments_lexer": "ipython3",
   "version": "3.13.5"
  }
 },
 "nbformat": 4,
 "nbformat_minor": 5
}
