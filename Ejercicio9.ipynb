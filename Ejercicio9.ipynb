{
 "cells": [
  {
   "cell_type": "code",
   "execution_count": 1,
   "id": "08b4864e",
   "metadata": {},
   "outputs": [
    {
     "name": "stdout",
     "output_type": "stream",
     "text": [
      "Stock de Arroz: 13\n",
      "Stock de Fideos: 5\n",
      "Stock de Azúcar: 0\n"
     ]
    }
   ],
   "source": [
    "class ProductoInventario:\n",
    "    def __init__(self, nombre, cantidad):\n",
    "        self.nombre = nombre\n",
    "        self.cantidad = cantidad\n",
    "\n",
    "\n",
    "class Inventario:\n",
    "    def __init__(self):\n",
    "        self.productos = {}\n",
    "\n",
    "    def agregar_producto(self, producto):\n",
    "        if producto.nombre in self.productos:\n",
    "            self.productos[producto.nombre].cantidad += producto.cantidad\n",
    "        else:\n",
    "            self.productos[producto.nombre] = producto\n",
    "\n",
    "    def consultar_stock(self, nombre):\n",
    "        if nombre in self.productos:\n",
    "            return self.productos[nombre].cantidad\n",
    "        return 0\n",
    "\n",
    "\n",
    "# Ejemplo\n",
    "inv = Inventario()\n",
    "inv.agregar_producto(ProductoInventario(\"Arroz\", 10))\n",
    "inv.agregar_producto(ProductoInventario(\"Fideos\", 5))\n",
    "inv.agregar_producto(ProductoInventario(\"Arroz\", 3))  # Suma 10 + 3\n",
    "\n",
    "print(\"Stock de Arroz:\", inv.consultar_stock(\"Arroz\"))\n",
    "print(\"Stock de Fideos:\", inv.consultar_stock(\"Fideos\"))\n",
    "print(\"Stock de Azúcar:\", inv.consultar_stock(\"Azúcar\"))\n"
   ]
  }
 ],
 "metadata": {
  "kernelspec": {
   "display_name": "Python 3",
   "language": "python",
   "name": "python3"
  },
  "language_info": {
   "codemirror_mode": {
    "name": "ipython",
    "version": 3
   },
   "file_extension": ".py",
   "mimetype": "text/x-python",
   "name": "python",
   "nbconvert_exporter": "python",
   "pygments_lexer": "ipython3",
   "version": "3.13.5"
  }
 },
 "nbformat": 4,
 "nbformat_minor": 5
}
