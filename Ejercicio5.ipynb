{
 "cells": [
  {
   "cell_type": "code",
   "execution_count": 1,
   "id": "272ee73e",
   "metadata": {},
   "outputs": [
    {
     "name": "stdout",
     "output_type": "stream",
     "text": [
      "POO: 6.5\n",
      "Bases de Datos: 5.5\n",
      "Promedio: 6.0\n"
     ]
    }
   ],
   "source": [
    "class Examen:\n",
    "    def __init__(self, tema, nota):\n",
    "        self.tema = tema\n",
    "        self.nota = nota\n",
    "\n",
    "\n",
    "class Estudiante:\n",
    "    def __init__(self, nombre):\n",
    "        self.nombre = nombre\n",
    "        self.examenes = []\n",
    "\n",
    "    def agregar_examen(self, examen):\n",
    "        if 1.0 <= examen.nota <= 7.0:\n",
    "            self.examenes.append(examen)\n",
    "\n",
    "    def calcular_promedio(self):\n",
    "        if not self.examenes:\n",
    "            return 0\n",
    "        total = sum(e.nota for e in self.examenes)\n",
    "        return total / len(self.examenes)\n",
    "\n",
    "    def mostrar_examenes(self):\n",
    "        for e in self.examenes:\n",
    "            print(f\"{e.tema}: {e.nota}\")\n",
    "\n",
    "\n",
    "# Ejemplo\n",
    "est = Estudiante(\"Mario\")\n",
    "est.agregar_examen(Examen(\"POO\", 6.5))\n",
    "est.agregar_examen(Examen(\"Bases de Datos\", 5.5))\n",
    "est.mostrar_examenes()\n",
    "print(\"Promedio:\", est.calcular_promedio())\n"
   ]
  }
 ],
 "metadata": {
  "kernelspec": {
   "display_name": "Python 3",
   "language": "python",
   "name": "python3"
  },
  "language_info": {
   "codemirror_mode": {
    "name": "ipython",
    "version": 3
   },
   "file_extension": ".py",
   "mimetype": "text/x-python",
   "name": "python",
   "nbconvert_exporter": "python",
   "pygments_lexer": "ipython3",
   "version": "3.13.5"
  }
 },
 "nbformat": 4,
 "nbformat_minor": 5
}
