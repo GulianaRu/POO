{
 "cells": [
  {
   "cell_type": "code",
   "execution_count": 2,
   "id": "7f839ba2",
   "metadata": {},
   "outputs": [
    {
     "name": "stdout",
     "output_type": "stream",
     "text": [
      "Mensajes de Alicia: ['De Juan: Todo bien, ¿y tú?', 'De Clara: ¿Tienes un momento?']\n",
      "Mensajes de Juan: ['De Alicia: Hola Juan, ¿cómo estás?']\n",
      "Mensajes de Clara: ['De Alicia: Sí, dime.']\n"
     ]
    }
   ],
   "source": [
    "class Usuario:\n",
    "    def __init__(self, nombre):\n",
    "        self.nombre = nombre\n",
    "        self.buzon = []\n",
    "\n",
    "    def enviar_mensaje(self, receptor, mensaje):\n",
    "        receptor.buzon.append((self.nombre, mensaje))\n",
    "\n",
    "    def leer_mensajes(self):\n",
    "        return [f\"De {remitente}: {contenido}\" for remitente, contenido in self.buzon]\n",
    "\n",
    "\n",
    "# Ejercicio\n",
    "u1 = Usuario(\"Alicia\")\n",
    "u2 = Usuario(\"Juan\")\n",
    "u3 = Usuario(\"Clara\")\n",
    "\n",
    "u1.enviar_mensaje(u2, \"Hola Juan, ¿cómo estás?\")\n",
    "u2.enviar_mensaje(u1, \"Todo bien, ¿y tú?\")\n",
    "u3.enviar_mensaje(u1, \"¿Tienes un momento?\")\n",
    "u1.enviar_mensaje(u3, \"Sí, dime.\")\n",
    "\n",
    "print(\"Mensajes de Alicia:\", u1.leer_mensajes())\n",
    "print(\"Mensajes de Juan:\", u2.leer_mensajes())\n",
    "print(\"Mensajes de Clara:\", u3.leer_mensajes())\n"
   ]
  }
 ],
 "metadata": {
  "kernelspec": {
   "display_name": "Python 3",
   "language": "python",
   "name": "python3"
  },
  "language_info": {
   "codemirror_mode": {
    "name": "ipython",
    "version": 3
   },
   "file_extension": ".py",
   "mimetype": "text/x-python",
   "name": "python",
   "nbconvert_exporter": "python",
   "pygments_lexer": "ipython3",
   "version": "3.13.5"
  }
 },
 "nbformat": 4,
 "nbformat_minor": 5
}
